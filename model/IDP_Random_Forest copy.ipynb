{
 "cells": [
  {
   "cell_type": "code",
   "execution_count": 1,
   "metadata": {},
   "outputs": [],
   "source": [
    "import pandas as pd\n",
    "import numpy as np \n",
    "from sklearn.model_selection import train_test_split\n",
    "import matplotlib.pyplot as plt\n",
    "from sklearn.tree import plot_tree\n",
    "from sklearn.metrics import roc_curve, plot_confusion_matrix, classification_report,confusion_matrix, f1_score, accuracy_score, roc_auc_score\n",
    "from imblearn.ensemble import BalancedRandomForestClassifier\n"
   ]
  },
  {
   "cell_type": "code",
   "execution_count": 5,
   "metadata": {},
   "outputs": [
    {
     "name": "stdout",
     "output_type": "stream",
     "text": [
      "Number of observations in the training data: 249098\n",
      "Number of observations in the test data: 249098\n"
     ]
    },
    {
     "data": {
      "text/plain": [
       "'df = df.drop(columns=[\"sequence\"])\\nX = df.iloc[:,:-1]\\ny = df.iloc[:,-1]\\nX_train, X_test, y_train, y_test = train_test_split(X, y, test_size=1/3, random_state=0) \\nprint(X_train.shape)\\nprint(X_test.shape)'"
      ]
     },
     "execution_count": 5,
     "metadata": {},
     "output_type": "execute_result"
    }
   ],
   "source": [
    "df1 = pd.read_csv(\"../all_data_1.csv\")\n",
    "df2 = pd.read_csv(\"../all_data_2.csv\")\n",
    "df = pd.concat([df1,df2])\n",
    "disordered = df.loc[df[\"label\"]==1.0]\n",
    "label_dis = disordered[\"label\"]\n",
    "disordered = disordered.drop(columns=[\"label\", \"sequence\"])\n",
    "ordered = df.loc[df[\"label\"]==0.0]\n",
    "label_ord = ordered[\"label\"]\n",
    "ordered = ordered.drop(columns=[\"label\", \"sequence\"])\n",
    "\n",
    "# 16316 disordered => 0.236 \n",
    "# 240481 total ordered \n",
    "# 7704 => 3852 \n",
    "#split ordered\n",
    "xo_train, xo_test, yo_train, yo_test = train_test_split(disordered, label_dis, test_size=0.236)\n",
    "#split disordered\n",
    "xd_train, xd_test, yd_train, yd_test = train_test_split(ordered, label_ord, test_size=0.016)\n",
    "#concatenate the two\n",
    "X_train = pd.concat([xo_train, xd_train]).to_numpy().astype('float32')\n",
    "y_train = pd.concat([yo_train, yd_train]).to_numpy().astype('float32')\n",
    "\n",
    "X_test = pd.concat([xo_test, xd_test]).to_numpy().astype('float32')\n",
    "y_test = pd.concat([yo_test, yd_test]).to_numpy().astype('float32')\n",
    "\n",
    "print('Number of observations in the training data:', len(X_train))\n",
    "print('Number of observations in the test data:',len(y_train))\n",
    "\"\"\"df = df.drop(columns=[\"sequence\"])\n",
    "X = df.iloc[:,:-1]\n",
    "y = df.iloc[:,-1]\n",
    "X_train, X_test, y_train, y_test = train_test_split(X, y, test_size=1/3, random_state=0) \n",
    "print(X_train.shape)\n",
    "print(X_test.shape)\"\"\""
   ]
  },
  {
   "cell_type": "code",
   "execution_count": 6,
   "metadata": {},
   "outputs": [
    {
     "name": "stdout",
     "output_type": "stream",
     "text": [
      "Training set score: 0.8990678367550121\n",
      "Test set score: 0.8227042473048448\n"
     ]
    }
   ],
   "source": [
    "# balanced random forest \n",
    "brfc = BalancedRandomForestClassifier(n_estimators=100).fit(X_train,y_train)\n",
    "print('Training set score: ' + str(brfc.score(X_train,y_train)))\n",
    "print('Test set score: ' + str(brfc.score(X_test,y_test)))\n",
    "\n",
    "#print(\"F1 Score for Balanced Random Forest Classifier is \", f1_score(test_labels, pred))\n",
    "#print(\"Accuracy  Score for Balanced Random Forest Classifier is \", accuracy_score(test_labels,pred))\n",
    "#print(\"roc_auc  Score for Balanced Random Forest Classifier is \", roc_auc_score(test_labels,pred)) => want to use class probabilities for this"
   ]
  },
  {
   "cell_type": "code",
   "execution_count": 7,
   "metadata": {},
   "outputs": [
    {
     "name": "stdout",
     "output_type": "stream",
     "text": [
      "roc_auc Score for Balanced Random Forest Classifier is  0.9036577763369505\n"
     ]
    }
   ],
   "source": [
    "print(\"roc_auc Score for Balanced Random Forest Classifier is \", roc_auc_score(y_test,brfc.predict_proba(X_test)[:,1]))"
   ]
  },
  {
   "cell_type": "code",
   "execution_count": 8,
   "metadata": {},
   "outputs": [
    {
     "name": "stdout",
     "output_type": "stream",
     "text": [
      "[[3392  456]\n",
      " [ 909 2942]]\n",
      "              precision    recall  f1-score   support\n",
      "\n",
      "         0.0       0.79      0.88      0.83      3848\n",
      "         1.0       0.87      0.76      0.81      3851\n",
      "\n",
      "    accuracy                           0.82      7699\n",
      "   macro avg       0.83      0.82      0.82      7699\n",
      "weighted avg       0.83      0.82      0.82      7699\n",
      "\n"
     ]
    }
   ],
   "source": [
    "pred = brfc.predict(X_test)\n",
    "print(confusion_matrix(y_test,pred))\n",
    "print(classification_report(y_test,pred))"
   ]
  },
  {
   "cell_type": "code",
   "execution_count": 9,
   "metadata": {},
   "outputs": [
    {
     "data": {
      "text/plain": [
       "<sklearn.metrics._plot.confusion_matrix.ConfusionMatrixDisplay at 0x7fef24c31978>"
      ]
     },
     "execution_count": 9,
     "metadata": {},
     "output_type": "execute_result"
    },
    {
     "data": {
      "image/png": "[encoded data removed]",
      "text/plain": [
       "<Figure size 432x288 with 2 Axes>"
      ]
     },
     "metadata": {
      "needs_background": "light"
     },
     "output_type": "display_data"
    }
   ],
   "source": [
    "plot_confusion_matrix(brfc, X_test, y_test)"
   ]
  },
  {
   "cell_type": "code",
   "execution_count": 10,
   "metadata": {},
   "outputs": [
    {
     "name": "stdout",
     "output_type": "stream",
     "text": [
      "Training set score: 0.9862276321950437\n",
      "Test set score: 0.9034123423405428\n"
     ]
    }
   ],
   "source": [
    "from sklearn.pipeline import Pipeline # For setting up pipeline\n",
    "# Various pre-processing steps\n",
    "from sklearn.preprocessing import Normalizer, StandardScaler, MinMaxScaler, PowerTransformer, MaxAbsScaler, LabelEncoder\n",
    "from sklearn.model_selection import GridSearchCV # For optimization\n",
    "\n",
    "pipe = Pipeline([('classifier', BalancedRandomForestClassifier())])\n",
    "parameters = {'classifier__criterion':[\"gini\", \"entropy\"], 'classifier__min_samples_split':[2,4,6,8], 'classifier__max_depth':[25, 30, 50, 75, 100]}\n",
    "grid = GridSearchCV(pipe, parameters, scoring=\"roc_auc\", cv=2).fit(X_train, y_train)\n",
    "print('Training set score: ' + str(grid.score(X_train, y_train)))\n",
    "print('Test set score: ' + str(grid.score(X_test, y_test)))"
   ]
  },
  {
   "cell_type": "code",
   "execution_count": 11,
   "metadata": {},
   "outputs": [
    {
     "name": "stdout",
     "output_type": "stream",
     "text": [
      "{'classifier__criterion': 'entropy', 'classifier__max_depth': 50, 'classifier__min_samples_split': 2}\n",
      "Pipeline(steps=[('classifier',\n",
      "                 BalancedRandomForestClassifier(criterion='entropy',\n",
      "                                                max_depth=50))])\n"
     ]
    }
   ],
   "source": [
    "# Access the best set of parameters\n",
    "best_params = grid.best_params_\n",
    "print(best_params)\n",
    "# Stores the optimum model in best_pipe\n",
    "best_pipe = grid.best_estimator_\n",
    "print(best_pipe)"
   ]
  },
  {
   "cell_type": "code",
   "execution_count": 12,
   "metadata": {},
   "outputs": [
    {
     "name": "stdout",
     "output_type": "stream",
     "text": [
      "Index(['mean_fit_time', 'std_fit_time', 'mean_score_time', 'std_score_time',\n",
      "       'param_classifier__criterion', 'param_classifier__max_depth',\n",
      "       'param_classifier__min_samples_split', 'params', 'split0_test_score',\n",
      "       'split1_test_score', 'mean_test_score', 'std_test_score',\n",
      "       'rank_test_score'],\n",
      "      dtype='object')\n"
     ]
    }
   ],
   "source": [
    "from pandas import DataFrame\n",
    "result_df = DataFrame.from_dict(grid.cv_results_, orient='columns')\n",
    "print(result_df.columns)"
   ]
  },
  {
   "cell_type": "code",
   "execution_count": 13,
   "metadata": {},
   "outputs": [],
   "source": [
    "result_df.to_csv(\"pipe_roc_auc_balanced_test_results.csv\")"
   ]
  },
  {
   "cell_type": "code",
   "execution_count": 14,
   "metadata": {},
   "outputs": [
    {
     "name": "stdout",
     "output_type": "stream",
     "text": [
      "              precision    recall  f1-score   support\n",
      "\n",
      "         0.0       0.79      0.88      0.83      3848\n",
      "         1.0       0.87      0.76      0.81      3851\n",
      "\n",
      "    accuracy                           0.82      7699\n",
      "   macro avg       0.83      0.82      0.82      7699\n",
      "weighted avg       0.83      0.82      0.82      7699\n",
      "\n"
     ]
    },
    {
     "data": {
      "image/png": "[encoded data removed]",
      "text/plain": [
       "<Figure size 432x288 with 2 Axes>"
      ]
     },
     "metadata": {
      "needs_background": "light"
     },
     "output_type": "display_data"
    }
   ],
   "source": [
    "plot_confusion_matrix(best_pipe, X_test, y_test)\n",
    "print(classification_report(y_test,pred))"
   ]
  },
  {
   "cell_type": "markdown",
   "metadata": {},
   "source": [
    "best params: {'classifier__criterion': 'entropy', 'classifier__max_depth': 50, 'classifier__min_samples_split': 2}\n",
    "Pipeline(steps=[('classifier',\n",
    "                 BalancedRandomForestClassifier(criterion='entropy',\n",
    "                                                max_depth=50))])"
   ]
  },
  {
   "cell_type": "code",
   "execution_count": 16,
   "metadata": {},
   "outputs": [
    {
     "data": {
      "text/plain": [
       "[('seq_len', 0.05116274506537775),\n",
       " ('molecular_weight', 0.057769612835829466),\n",
       " ('hydrophobicity', 0.045338647935230354),\n",
       " ('instability_index', 0.04788413432641794),\n",
       " ('aromaticity', 0.031565189733197434),\n",
       " ('A %', 0.061884520817477154),\n",
       " ('C %', 0.03234058896819296),\n",
       " ('D %', 0.03157212763291609),\n",
       " ('E %', 0.03415870690670007),\n",
       " ('F %', 0.03083697119080141),\n",
       " ('G %', 0.05340886347978918),\n",
       " ('H %', 0.03266469575658316),\n",
       " ('I %', 0.04485639853104817),\n",
       " ('K %', 0.04550135973950739),\n",
       " ('L %', 0.03034818827988141),\n",
       " ('M %', 0.031778459528511285),\n",
       " ('N %', 0.062313404559151),\n",
       " ('P %', 0.038804799847345785),\n",
       " ('Q %', 0.031605128269039745),\n",
       " ('R %', 0.03385794895051455),\n",
       " ('S %', 0.03551994581973948),\n",
       " ('T %', 0.03431703284760226),\n",
       " ('V %', 0.03828286096203847),\n",
       " ('W %', 0.03133389427413242),\n",
       " ('Y %', 0.03089377374297507)]"
      ]
     },
     "execution_count": 16,
     "metadata": {},
     "output_type": "execute_result"
    }
   ],
   "source": [
    "# find feature importance\n",
    "list(zip(xo_train.columns, brfc.feature_importances_))"
   ]
  },
  {
   "cell_type": "code",
   "execution_count": 17,
   "metadata": {},
   "outputs": [
    {
     "name": "stdout",
     "output_type": "stream",
     "text": [
      "roc_auc Score for Balanced Random Forest Classifier is  0.9034123423405428\n"
     ]
    }
   ],
   "source": [
    "print(\"roc_auc Score for Balanced Random Forest Classifier is \", roc_auc_score(y_test,best_pipe.predict_proba(X_test)[:,1]))"
   ]
  },
  {
   "cell_type": "code",
   "execution_count": 19,
   "metadata": {},
   "outputs": [],
   "source": [
    "predict_prob = best_pipe.predict_proba(X_test)\n",
    "\n",
    "# roc curve for models\n",
    "fpr1, tpr1, thresh1 = roc_curve(y_test, predict_prob[:,1], pos_label=1)\n",
    "\n",
    "# roc curve for tpr = fpr \n",
    "random_probs = [0 for i in range(len(y_test))]\n",
    "p_fpr, p_tpr, _ = roc_curve(y_test, random_probs, pos_label=1)"
   ]
  },
  {
   "cell_type": "code",
   "execution_count": 20,
   "metadata": {},
   "outputs": [
    {
     "name": "stdout",
     "output_type": "stream",
     "text": [
      "roc_auc Score for Balanced Random Forest Classifier is  0.9034123423405428\n"
     ]
    }
   ],
   "source": [
    "print(\"roc_auc Score for Balanced Random Forest Classifier is \", roc_auc_score(y_test,predict_prob[:,1]))"
   ]
  },
  {
   "cell_type": "code",
   "execution_count": 21,
   "metadata": {},
   "outputs": [
    {
     "name": "stdout",
     "output_type": "stream",
     "text": [
      "[1. 1. 1. ... 0. 0. 0.]\n",
      "[[0.01       0.99      ]\n",
      " [0.         1.        ]\n",
      " [0.39       0.61      ]\n",
      " ...\n",
      " [0.98       0.02      ]\n",
      " [0.67       0.33      ]\n",
      " [0.70178571 0.29821429]]\n",
      "[0.99       1.         0.61       ... 0.02       0.33       0.29821429]\n"
     ]
    }
   ],
   "source": [
    "print(y_test)\n",
    "print(predict_prob)\n",
    "print(predict_prob[:,1])"
   ]
  },
  {
   "cell_type": "code",
   "execution_count": 22,
   "metadata": {},
   "outputs": [
    {
     "data": {
      "image/png": "[encoded data removed]",
      "text/plain": [
       "<Figure size 576x396 with 1 Axes>"
      ]
     },
     "metadata": {},
     "output_type": "display_data"
    }
   ],
   "source": [
    "# matplotlib\n",
    "plt.style.use('seaborn')\n",
    "\n",
    "# plot roc curves\n",
    "plt.plot(fpr1, tpr1, linestyle='--',color='orange', label='Balanced Random Forest')\n",
    "plt.plot(p_fpr, p_tpr, linestyle='--', color='blue')\n",
    "# title\n",
    "plt.title('ROC curve')\n",
    "# x label\n",
    "plt.xlabel('False Positive Rate')\n",
    "# y label\n",
    "plt.ylabel('True Positive rate')\n",
    "\n",
    "plt.legend(loc='best')\n",
    "plt.savefig('ROC',dpi=600)\n",
    "plt.show()"
   ]
  }
 ],
 "metadata": {
  "interpreter": {
   "hash": "efe536f56772550b3780c4bc370e1a5a9fb275ab51bc15dd8f0082936f470755"
  },
  "kernelspec": {
   "display_name": "Python 3.6.12 ('tensorflow')",
   "language": "python",
   "name": "python3"
  },
  "language_info": {
   "codemirror_mode": {
    "name": "ipython",
    "version": 3
   },
   "file_extension": ".py",
   "mimetype": "text/x-python",
   "name": "python",
   "nbconvert_exporter": "python",
   "pygments_lexer": "ipython3",
   "version": "3.6.12"
  },
  "orig_nbformat": 4
 },
 "nbformat": 4,
 "nbformat_minor": 2
}
