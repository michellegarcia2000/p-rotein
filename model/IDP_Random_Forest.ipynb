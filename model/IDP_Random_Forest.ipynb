{
 "cells": [
  {
   "cell_type": "code",
   "execution_count": 3,
   "metadata": {},
   "outputs": [],
   "source": [
    "import pandas as pd\n",
    "import numpy as np \n",
    "from sklearn.ensemble import RandomForestClassifier"
   ]
  },
  {
   "cell_type": "code",
   "execution_count": 4,
   "metadata": {},
   "outputs": [],
   "source": [
    "df = pd.read_csv(\"../all_data_Char.csv\")"
   ]
  },
  {
   "cell_type": "code",
   "execution_count": 15,
   "metadata": {},
   "outputs": [
    {
     "name": "stderr",
     "output_type": "stream",
     "text": [
      "/Users/michellegarcia/miniconda3/envs/tensorflow/lib/python3.6/site-packages/ipykernel_launcher.py:5: SettingWithCopyWarning: \n",
      "A value is trying to be set on a copy of a slice from a DataFrame.\n",
      "Try using .loc[row_indexer,col_indexer] = value instead\n",
      "\n",
      "See the caveats in the documentation: https://pandas.pydata.org/pandas-docs/stable/user_guide/indexing.html#returning-a-view-versus-a-copy\n",
      "  \"\"\"\n",
      "/Users/michellegarcia/miniconda3/envs/tensorflow/lib/python3.6/site-packages/ipykernel_launcher.py:6: SettingWithCopyWarning: \n",
      "A value is trying to be set on a copy of a slice from a DataFrame.\n",
      "Try using .loc[row_indexer,col_indexer] = value instead\n",
      "\n",
      "See the caveats in the documentation: https://pandas.pydata.org/pandas-docs/stable/user_guide/indexing.html#returning-a-view-versus-a-copy\n",
      "  \n"
     ]
    },
    {
     "data": {
      "text/html": [
       "<div>\n",
       "<style scoped>\n",
       "    .dataframe tbody tr th:only-of-type {\n",
       "        vertical-align: middle;\n",
       "    }\n",
       "\n",
       "    .dataframe tbody tr th {\n",
       "        vertical-align: top;\n",
       "    }\n",
       "\n",
       "    .dataframe thead th {\n",
       "        text-align: right;\n",
       "    }\n",
       "</style>\n",
       "<table border=\"1\" class=\"dataframe\">\n",
       "  <thead>\n",
       "    <tr style=\"text-align: right;\">\n",
       "      <th></th>\n",
       "      <th>sequence</th>\n",
       "      <th>seq_len</th>\n",
       "      <th>molecular_weight</th>\n",
       "      <th>hydrophobicity</th>\n",
       "      <th>instability_index</th>\n",
       "      <th>aromaticity</th>\n",
       "      <th>label</th>\n",
       "      <th>is_train</th>\n",
       "    </tr>\n",
       "  </thead>\n",
       "  <tbody>\n",
       "    <tr>\n",
       "      <th>0</th>\n",
       "      <td>MASREEEQRETTPERGRGAARRPPTMEDVSSPSPSPPPPRAPPKKR...</td>\n",
       "      <td>529</td>\n",
       "      <td>59138.7350</td>\n",
       "      <td>-0.611153</td>\n",
       "      <td>58.945936</td>\n",
       "      <td>0.058601</td>\n",
       "      <td>1.0</td>\n",
       "      <td>True</td>\n",
       "    </tr>\n",
       "    <tr>\n",
       "      <th>1</th>\n",
       "      <td>MKTQRDGHSLGRWSLVLLLLGLVMPLAIIAQVLSYKEAVLRAIDGI...</td>\n",
       "      <td>170</td>\n",
       "      <td>19301.1649</td>\n",
       "      <td>-0.441765</td>\n",
       "      <td>37.586471</td>\n",
       "      <td>0.064706</td>\n",
       "      <td>1.0</td>\n",
       "      <td>True</td>\n",
       "    </tr>\n",
       "    <tr>\n",
       "      <th>2</th>\n",
       "      <td>MDAQTRRRERRAEKQAQWKAANPLLVGVSAKPVNRPILSLNRKPKS...</td>\n",
       "      <td>107</td>\n",
       "      <td>12298.1162</td>\n",
       "      <td>-0.919626</td>\n",
       "      <td>46.321495</td>\n",
       "      <td>0.037383</td>\n",
       "      <td>1.0</td>\n",
       "      <td>True</td>\n",
       "    </tr>\n",
       "    <tr>\n",
       "      <th>3</th>\n",
       "      <td>MGDVEKGKKIFVQKCAQCHTVEKGGKHKTGPNLHGLFGRKTGQAPG...</td>\n",
       "      <td>105</td>\n",
       "      <td>11832.6058</td>\n",
       "      <td>-0.875238</td>\n",
       "      <td>15.507619</td>\n",
       "      <td>0.085714</td>\n",
       "      <td>1.0</td>\n",
       "      <td>True</td>\n",
       "    </tr>\n",
       "    <tr>\n",
       "      <th>4</th>\n",
       "      <td>MPKRGKKGAVAEDGDELRTEPEAKKSKTAAKKNDKEAAGEGPALYE...</td>\n",
       "      <td>318</td>\n",
       "      <td>35554.0730</td>\n",
       "      <td>-0.583019</td>\n",
       "      <td>43.411950</td>\n",
       "      <td>0.088050</td>\n",
       "      <td>1.0</td>\n",
       "      <td>True</td>\n",
       "    </tr>\n",
       "  </tbody>\n",
       "</table>\n",
       "</div>"
      ],
      "text/plain": [
       "                                            sequence  seq_len  \\\n",
       "0  MASREEEQRETTPERGRGAARRPPTMEDVSSPSPSPPPPRAPPKKR...      529   \n",
       "1  MKTQRDGHSLGRWSLVLLLLGLVMPLAIIAQVLSYKEAVLRAIDGI...      170   \n",
       "2  MDAQTRRRERRAEKQAQWKAANPLLVGVSAKPVNRPILSLNRKPKS...      107   \n",
       "3  MGDVEKGKKIFVQKCAQCHTVEKGGKHKTGPNLHGLFGRKTGQAPG...      105   \n",
       "4  MPKRGKKGAVAEDGDELRTEPEAKKSKTAAKKNDKEAAGEGPALYE...      318   \n",
       "\n",
       "   molecular_weight  hydrophobicity  instability_index  aromaticity  label  \\\n",
       "0        59138.7350       -0.611153          58.945936     0.058601    1.0   \n",
       "1        19301.1649       -0.441765          37.586471     0.064706    1.0   \n",
       "2        12298.1162       -0.919626          46.321495     0.037383    1.0   \n",
       "3        11832.6058       -0.875238          15.507619     0.085714    1.0   \n",
       "4        35554.0730       -0.583019          43.411950     0.088050    1.0   \n",
       "\n",
       "   is_train  \n",
       "0      True  \n",
       "1      True  \n",
       "2      True  \n",
       "3      True  \n",
       "4      True  "
      ]
     },
     "execution_count": 15,
     "metadata": {},
     "output_type": "execute_result"
    }
   ],
   "source": [
    "# create the test and the train data set. \n",
    "disordered = df.loc[df[\"label\"]==1.0]\n",
    "ordered = df.loc[df[\"label\"]==0.0]\n",
    "# select indices based on a random distributions \n",
    "disordered[\"is_train\"] = np.random.uniform(0, 1, len(disordered)) <= 0.885 # calculated based on test/total\n",
    "ordered[\"is_train\"] = np.random.uniform(0,1, len(ordered)) <= 0.9947 # calculated based on test/total"
   ]
  },
  {
   "cell_type": "code",
   "execution_count": 46,
   "metadata": {},
   "outputs": [],
   "source": [
    "df2 = pd.concat([disordered,ordered])\n",
    "df2 = df2.drop(columns=[\"sequence\"])\n",
    "train, test = df2[df2['is_train']==True], df2[df2['is_train']==False]"
   ]
  },
  {
   "cell_type": "code",
   "execution_count": 43,
   "metadata": {},
   "outputs": [
    {
     "name": "stdout",
     "output_type": "stream",
     "text": [
      "Number of observations in the training data: 248883\n",
      "Number of observations in the test data: 2535\n"
     ]
    }
   ],
   "source": [
    "print('Number of observations in the training data:', len(train))\n",
    "print('Number of observations in the test data:',len(test))"
   ]
  },
  {
   "cell_type": "code",
   "execution_count": 50,
   "metadata": {},
   "outputs": [],
   "source": [
    "features = df2.columns[1:5]\n",
    "y = train.label.to_list()"
   ]
  },
  {
   "cell_type": "code",
   "execution_count": 81,
   "metadata": {},
   "outputs": [
    {
     "data": {
      "text/plain": [
       "array([[1. , 0. ],\n",
       "       [0. , 1. ],\n",
       "       [1. , 0. ],\n",
       "       [0. , 1. ],\n",
       "       [1. , 0. ],\n",
       "       [1. , 0. ],\n",
       "       [0.4, 0.6],\n",
       "       [0. , 1. ],\n",
       "       [0.4, 0.6],\n",
       "       [0. , 1. ]])"
      ]
     },
     "execution_count": 81,
     "metadata": {},
     "output_type": "execute_result"
    }
   ],
   "source": [
    "clf = RandomForestClassifier(n_jobs=2, n_estimators =5, random_state=0)\n",
    "clf.fit(train[features], y)\n",
    "clf.predict(test[features])\n",
    "clf.predict_proba(test[features])[0:10]"
   ]
  },
  {
   "cell_type": "code",
   "execution_count": 82,
   "metadata": {},
   "outputs": [],
   "source": [
    "preds = clf.predict(test[features])"
   ]
  },
  {
   "cell_type": "code",
   "execution_count": 83,
   "metadata": {},
   "outputs": [
    {
     "data": {
      "text/html": [
       "<div>\n",
       "<style scoped>\n",
       "    .dataframe tbody tr th:only-of-type {\n",
       "        vertical-align: middle;\n",
       "    }\n",
       "\n",
       "    .dataframe tbody tr th {\n",
       "        vertical-align: top;\n",
       "    }\n",
       "\n",
       "    .dataframe thead th {\n",
       "        text-align: right;\n",
       "    }\n",
       "</style>\n",
       "<table border=\"1\" class=\"dataframe\">\n",
       "  <thead>\n",
       "    <tr style=\"text-align: right;\">\n",
       "      <th>Predicted label</th>\n",
       "      <th>0.0</th>\n",
       "      <th>1.0</th>\n",
       "    </tr>\n",
       "    <tr>\n",
       "      <th>Actual label</th>\n",
       "      <th></th>\n",
       "      <th></th>\n",
       "    </tr>\n",
       "  </thead>\n",
       "  <tbody>\n",
       "    <tr>\n",
       "      <th>0.0</th>\n",
       "      <td>1327</td>\n",
       "      <td>10</td>\n",
       "    </tr>\n",
       "    <tr>\n",
       "      <th>1.0</th>\n",
       "      <td>795</td>\n",
       "      <td>403</td>\n",
       "    </tr>\n",
       "  </tbody>\n",
       "</table>\n",
       "</div>"
      ],
      "text/plain": [
       "Predicted label   0.0  1.0\n",
       "Actual label              \n",
       "0.0              1327   10\n",
       "1.0               795  403"
      ]
     },
     "execution_count": 83,
     "metadata": {},
     "output_type": "execute_result"
    }
   ],
   "source": [
    "pd.crosstab(test['label'], preds, rownames=['Actual label'], colnames=['Predicted label'])"
   ]
  },
  {
   "cell_type": "code",
   "execution_count": 62,
   "metadata": {},
   "outputs": [
    {
     "data": {
      "text/plain": [
       "[('molecular_weight', 0.2948203424700344),\n",
       " ('hydrophobicity', 0.24947013914969063),\n",
       " ('instability_index', 0.25810770450472803),\n",
       " ('aromaticity', 0.19760181387554704)]"
      ]
     },
     "execution_count": 62,
     "metadata": {},
     "output_type": "execute_result"
    }
   ],
   "source": [
    "list(zip(train[features], clf.feature_importances_))"
   ]
  }
 ],
 "metadata": {
  "interpreter": {
   "hash": "efe536f56772550b3780c4bc370e1a5a9fb275ab51bc15dd8f0082936f470755"
  },
  "kernelspec": {
   "display_name": "Python 3.6.12 ('tensorflow')",
   "language": "python",
   "name": "python3"
  },
  "language_info": {
   "codemirror_mode": {
    "name": "ipython",
    "version": 3
   },
   "file_extension": ".py",
   "mimetype": "text/x-python",
   "name": "python",
   "nbconvert_exporter": "python",
   "pygments_lexer": "ipython3",
   "version": "3.6.12"
  },
  "orig_nbformat": 4
 },
 "nbformat": 4,
 "nbformat_minor": 2
}
