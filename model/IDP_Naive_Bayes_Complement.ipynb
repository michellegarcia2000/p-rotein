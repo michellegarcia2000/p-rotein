{
 "cells": [
  {
   "cell_type": "code",
   "execution_count": 1,
   "metadata": {},
   "outputs": [],
   "source": [
    "import pandas as pd\n",
    "import numpy as np \n",
    "from sklearn.naive_bayes import GaussianNB"
   ]
  },
  {
   "cell_type": "code",
   "execution_count": 2,
   "metadata": {},
   "outputs": [],
   "source": [
    "##df = pd.read_csv(\"../all_data_Char.csv\")\n",
    "df1 = pd.read_csv(\"../all_data_1.csv\")\n",
    "df2 = pd.read_csv(\"../all_data_2.csv\")\n",
    "df = pd.concat([df1,df2])\n",
    "df.rename(columns = lambda x: x.replace(' ', '_'), inplace=True) # replace spaces with _"
   ]
  },
  {
   "cell_type": "code",
   "execution_count": 3,
   "metadata": {},
   "outputs": [],
   "source": [
    "from sklearn.model_selection import train_test_split"
   ]
  },
  {
   "cell_type": "code",
   "execution_count": 5,
   "metadata": {},
   "outputs": [],
   "source": [
    "disordered = df.loc[df[\"label\"]==1.0]\n",
    "label_dis = disordered[\"label\"]\n",
    "disordered = disordered.drop(columns=[\"label\", \"sequence\"])\n",
    "ordered = df.loc[df[\"label\"]==0.0]\n",
    "label_ord = ordered[\"label\"]\n",
    "ordered = ordered.drop(columns=[\"label\", \"sequence\"])\n",
    "\n",
    "# 16316 disordered => 0.236 \n",
    "# 240481 ordered \n",
    "# 7704 => 3852 => 3% total \n",
    "#split ordered\n",
    "xo_train, xo_test, yo_train, yo_test = train_test_split(disordered, label_dis, test_size=0.236, random_state=42)\n",
    "#split disordered\n",
    "xd_train, xd_test, yd_train, yd_test = train_test_split(ordered, label_ord, test_size=0.016, random_state=42)\n",
    "#concatenate the two\n",
    "train_features = pd.concat([xo_train, xd_train])\n",
    "train_labels = pd.concat([yo_train, yd_train])\n",
    "\n",
    "test_features = pd.concat([xo_test, xd_test])\n",
    "test_labels = pd.concat([yo_test, yd_test])"
   ]
  },
  {
   "cell_type": "code",
   "execution_count": 6,
   "metadata": {},
   "outputs": [],
   "source": [
    "from sklearn.naive_bayes import ComplementNB\n",
    "from sklearn.preprocessing import MinMaxScaler #fixed import\n",
    "cnb = ComplementNB()\n",
    "scaler = MinMaxScaler()\n",
    "train_features = scaler.fit_transform(train_features)\n",
    "test_features = scaler.transform(test_features)\n",
    "\n",
    "cnb.fit(train_features, train_labels)\n",
    "  \n",
    "# Evaluating the classifier\n",
    "prediction = cnb.predict(test_features)\n",
    "#prediction_train = cnb.predict(X_train)"
   ]
  },
  {
   "cell_type": "code",
   "execution_count": 7,
   "metadata": {},
   "outputs": [
    {
     "name": "stdout",
     "output_type": "stream",
     "text": [
      "[[2467 1381]\n",
      " [1466 2385]]\n",
      "              precision    recall  f1-score   support\n",
      "\n",
      "           0       0.63      0.64      0.63      3848\n",
      "           1       0.63      0.62      0.63      3851\n",
      "\n",
      "    accuracy                           0.63      7699\n",
      "   macro avg       0.63      0.63      0.63      7699\n",
      "weighted avg       0.63      0.63      0.63      7699\n",
      "\n"
     ]
    }
   ],
   "source": [
    "from sklearn.metrics import classification_report,confusion_matrix\n",
    "print(confusion_matrix(test_labels,prediction))\n",
    "print(classification_report(test_labels,prediction))"
   ]
  }
 ],
 "metadata": {
  "interpreter": {
   "hash": "1a94b560e283f59d7b03504ee2788f0e3bc1b2065d859d967ad0867e8d324b6e"
  },
  "kernelspec": {
   "display_name": "protein",
   "language": "python",
   "name": "python3"
  },
  "language_info": {
   "codemirror_mode": {
    "name": "ipython",
    "version": 3
   },
   "file_extension": ".py",
   "mimetype": "text/x-python",
   "name": "python",
   "nbconvert_exporter": "python",
   "pygments_lexer": "ipython3",
   "version": "3.8.5"
  },
  "orig_nbformat": 4
 },
 "nbformat": 4,
 "nbformat_minor": 2
}
